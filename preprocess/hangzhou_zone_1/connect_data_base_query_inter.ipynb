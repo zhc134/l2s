{
 "cells": [
  {
   "cell_type": "code",
   "execution_count": null,
   "metadata": {},
   "outputs": [],
   "source": [
    "import MySQLdb\n",
    "import pandas as pd\n",
    "import numpy as np\n",
    "from multiprocessing import Process\n",
    "import time"
   ]
  },
  {
   "cell_type": "code",
   "execution_count": null,
   "metadata": {},
   "outputs": [],
   "source": [
    "def crawl(dev_id):\n",
    "    db = MySQLdb.connect(host=\"192.168.120.127\", user=\"reader\", passwd=\"trreadonly\", db=\"city_data\", port=3306, charset=\"utf8\")\n",
    "    print(\"crawling {0}\".format(dev_id))\n",
    "    cursor = db.cursor()\n",
    "    cursor.execute(\"SELECT * FROM city_data.city_data USE INDEX (kakou_id) WHERE dev_id={0};\".format(dev_id))\n",
    "    a = cursor.fetchall()\n",
    "    pd.DataFrame(np.array(a), columns=[\"id\", \"dev_id\", \"dev_name\"]).to_csv(\"dev_id_{0}.csv\".format(dev_id))\n",
    "    db.close()"
   ]
  },
  {
   "cell_type": "code",
   "execution_count": null,
   "metadata": {},
   "outputs": [],
   "source": [
    "def check_all_workers_working(list_cur_p):\n",
    "    for i in range(len(list_cur_p)):\n",
    "        if not list_cur_p[i].is_alive():\n",
    "            return i\n",
    "\n",
    "    return -1"
   ]
  },
  {
   "cell_type": "code",
   "execution_count": null,
   "metadata": {},
   "outputs": [],
   "source": [
    "list_dev_id = [\n",
    "    2148469, 2148468, 2148472, 2148470, 2148471, 2148740, \n",
    "    2148742, 2148741, 2148737, 2148739, 2148575, 2148572, \n",
    "    2148577, 2149892, 2149895, 2148532, 2148571, 2148574, \n",
    "    2149893, 2148573, 2149666, 2149669, 2149668, 2149667, 2149671, 2149670\n",
    "             ]\n",
    "n_workers = 8\n",
    "\n",
    "process_list = []\n",
    "\n",
    "for dev_id in list_dev_id:\n",
    "    print(dev_id)\n",
    "    p = Process(target=crawl, \n",
    "                args=(dev_id,))\n",
    "    process_list.append(p)\n",
    "    \n",
    "\n",
    "i = 0\n",
    "list_cur_p = []\n",
    "for p in process_list:\n",
    "    if len(list_cur_p) < n_workers:\n",
    "        print(i)\n",
    "        p.start()\n",
    "        list_cur_p.append(p)\n",
    "        i += 1\n",
    "    if len(list_cur_p) < n_workers:\n",
    "        continue\n",
    "\n",
    "    idle = check_all_workers_working(list_cur_p)\n",
    "\n",
    "    while idle == -1:\n",
    "        time.sleep(1)\n",
    "        idle = check_all_workers_working(\n",
    "            list_cur_p)\n",
    "    del list_cur_p[idle]\n",
    "\n",
    "for p in list_cur_p:\n",
    "    p.join()\n",
    "    \n",
    "print(\"finished\")"
   ]
  },
  {
   "cell_type": "code",
   "execution_count": null,
   "metadata": {},
   "outputs": [],
   "source": [
    "# import chardet\n",
    "# print(dir(chardet))\n",
    "# chardet.detect(a[0][1].encode())"
   ]
  },
  {
   "cell_type": "code",
   "execution_count": null,
   "metadata": {},
   "outputs": [],
   "source": []
  },
  {
   "cell_type": "code",
   "execution_count": null,
   "metadata": {},
   "outputs": [],
   "source": []
  },
  {
   "cell_type": "code",
   "execution_count": null,
   "metadata": {},
   "outputs": [],
   "source": []
  }
 ],
 "metadata": {
  "kernelspec": {
   "display_name": "Python 3",
   "language": "python",
   "name": "python3"
  },
  "language_info": {
   "codemirror_mode": {
    "name": "ipython",
    "version": 3
   },
   "file_extension": ".py",
   "mimetype": "text/x-python",
   "name": "python",
   "nbconvert_exporter": "python",
   "pygments_lexer": "ipython3",
   "version": "3.6.5"
  }
 },
 "nbformat": 4,
 "nbformat_minor": 2
}
