{
 "cells": [
  {
   "cell_type": "code",
   "execution_count": null,
   "metadata": {},
   "outputs": [],
   "source": [
    "import MySQLdb\n",
    "import pandas as pd\n",
    "import numpy as np\n",
    "from multiprocessing import Process\n",
    "import time"
   ]
  },
  {
   "cell_type": "code",
   "execution_count": null,
   "metadata": {},
   "outputs": [],
   "source": [
    "def crawl(portion_cnt, portion_step, total_end):\n",
    "    db = MySQLdb.connect(host=\"192.168.120.127\", user=\"reader\", passwd=\"trreadonly\", db=\"city_data\", port=3306, charset=\"utf8\")\n",
    "    start = portion_cnt*portion_step\n",
    "    end = min((portion_cnt+1)*portion_step, total_end)\n",
    "    print(\"crawling {0} to {1}\".format(start, end))\n",
    "    cursor = db.cursor()\n",
    "    cursor.execute(\"SELECT distinct(dev_id),dev_name FROM (SELECT * FROM city_data.city_data LIMIT {0} OFFSET {1}) as a;\".format(portion_step, start))\n",
    "    a = cursor.fetchall()\n",
    "    pd.DataFrame(np.array(a), columns=[\"dev_id\", \"dev_name\"]).to_csv(\"list_dev_id_part_{0}.csv\".format(portion_cnt))\n",
    "    db.close()"
   ]
  },
  {
   "cell_type": "code",
   "execution_count": null,
   "metadata": {},
   "outputs": [],
   "source": [
    "def check_all_workers_working(list_cur_p):\n",
    "    for i in range(len(list_cur_p)):\n",
    "        if not list_cur_p[i].is_alive():\n",
    "            return i\n",
    "\n",
    "    return -1"
   ]
  },
  {
   "cell_type": "code",
   "execution_count": null,
   "metadata": {},
   "outputs": [],
   "source": [
    "total_rows = 340421468\n",
    "portion_step = 500000\n",
    "total_rounds = total_rows//portion_step + 1\n",
    "n_workers = 8\n",
    "\n",
    "process_list = []\n",
    "\n",
    "for i in range(total_rounds):\n",
    "    p = Process(target=crawl, \n",
    "                args=(i, portion_step, total_rows))\n",
    "    process_list.append(p)\n",
    "    \n",
    "\n",
    "i = 0\n",
    "list_cur_p = []\n",
    "for p in process_list:\n",
    "    if len(list_cur_p) < n_workers:\n",
    "        print(i)\n",
    "        p.start()\n",
    "        list_cur_p.append(p)\n",
    "        i += 1\n",
    "    if len(list_cur_p) < n_workers:\n",
    "        continue\n",
    "\n",
    "    idle = check_all_workers_working(list_cur_p)\n",
    "\n",
    "    while idle == -1:\n",
    "        time.sleep(1)\n",
    "        idle = check_all_workers_working(\n",
    "            list_cur_p)\n",
    "    del list_cur_p[idle]\n",
    "\n",
    "for p in list_cur_p:\n",
    "    p.join()\n",
    "    \n",
    "print(\"finished\")"
   ]
  },
  {
   "cell_type": "code",
   "execution_count": null,
   "metadata": {},
   "outputs": [],
   "source": [
    "# import chardet\n",
    "# print(dir(chardet))\n",
    "# chardet.detect(a[0][1].encode())"
   ]
  },
  {
   "cell_type": "code",
   "execution_count": null,
   "metadata": {},
   "outputs": [],
   "source": []
  },
  {
   "cell_type": "code",
   "execution_count": null,
   "metadata": {},
   "outputs": [],
   "source": []
  },
  {
   "cell_type": "code",
   "execution_count": null,
   "metadata": {},
   "outputs": [],
   "source": []
  }
 ],
 "metadata": {
  "kernelspec": {
   "display_name": "Python 3",
   "language": "python",
   "name": "python3"
  },
  "language_info": {
   "codemirror_mode": {
    "name": "ipython",
    "version": 3
   },
   "file_extension": ".py",
   "mimetype": "text/x-python",
   "name": "python",
   "nbconvert_exporter": "python",
   "pygments_lexer": "ipython3",
   "version": "3.6.5"
  }
 },
 "nbformat": 4,
 "nbformat_minor": 2
}
