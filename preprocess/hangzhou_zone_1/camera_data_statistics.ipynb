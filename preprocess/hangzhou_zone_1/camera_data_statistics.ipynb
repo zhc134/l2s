{
 "cells": [
  {
   "cell_type": "code",
   "execution_count": null,
   "metadata": {},
   "outputs": [],
   "source": [
    "import pandas as pd\n",
    "import os\n",
    "from matplotlib import pyplot as plt"
   ]
  },
  {
   "cell_type": "code",
   "execution_count": null,
   "metadata": {},
   "outputs": [],
   "source": [
    "path_to_data = \"data\"\n",
    "date_str = \"2018-04-01\"\n",
    "file_name = \"camera-{0}.csv\".format(date_str)"
   ]
  },
  {
   "cell_type": "code",
   "execution_count": null,
   "metadata": {},
   "outputs": [],
   "source": [
    "step = 900\n",
    "start_time = pd.Timestamp(\"00:00:00\".format(date_str))\n",
    "end_time = start_time + pd.Timedelta(\"1 days\")"
   ]
  },
  {
   "cell_type": "code",
   "execution_count": null,
   "metadata": {},
   "outputs": [],
   "source": [
    "df_data = pd.read_csv(os.path.join(path_to_data, file_name))\n",
    "df_data[\"timestamp\"] = pd.to_datetime(df_data[\"timestamp\"])"
   ]
  },
  {
   "cell_type": "code",
   "execution_count": null,
   "metadata": {},
   "outputs": [],
   "source": [
    "# plot everyday data\n",
    "cur = start_time\n",
    "time_delta = pd.Timedelta(\"{0} seconds\".format(step))\n",
    "list_time = []\n",
    "list_count = []\n",
    "while cur < end_time:\n",
    "    list_time.append(cur)\n",
    "    list_count.append(len(df_data[\n",
    "        (df_data[\"timestamp\"] >= cur) \n",
    "        & (df_data[\"timestamp\"] < (cur+time_delta))]))\n",
    "    cur += time_delta\n",
    "# plot \n",
    "car_num_count = df_data[\"car_num\"].value_counts()"
   ]
  },
  {
   "cell_type": "code",
   "execution_count": null,
   "metadata": {},
   "outputs": [],
   "source": [
    "plt.hist(car_num_count.values, normed=False, cumulative=False, label='CDF',\n",
    "         histtype='step', alpha=0.8, bins=list(range(10)))\n",
    "plt.xlabel(\"appearance count\")\n",
    "plt.ylabel(\"# vehicle\")\n"
   ]
  },
  {
   "cell_type": "code",
   "execution_count": null,
   "metadata": {},
   "outputs": [],
   "source": [
    "car_num_count.values"
   ]
  },
  {
   "cell_type": "code",
   "execution_count": null,
   "metadata": {},
   "outputs": [],
   "source": [
    "list_count"
   ]
  },
  {
   "cell_type": "code",
   "execution_count": null,
   "metadata": {},
   "outputs": [],
   "source": []
  }
 ],
 "metadata": {
  "kernelspec": {
   "display_name": "Python 3",
   "language": "python",
   "name": "python3"
  },
  "language_info": {
   "codemirror_mode": {
    "name": "ipython",
    "version": 3
   },
   "file_extension": ".py",
   "mimetype": "text/x-python",
   "name": "python",
   "nbconvert_exporter": "python",
   "pygments_lexer": "ipython3",
   "version": "3.6.5"
  }
 },
 "nbformat": 4,
 "nbformat_minor": 2
}
