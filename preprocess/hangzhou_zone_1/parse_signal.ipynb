{
 "cells": [
  {
   "cell_type": "code",
   "execution_count": null,
   "metadata": {},
   "outputs": [],
   "source": [
    "import pandas as pd\n",
    "import os\n",
    "import numpy as np"
   ]
  },
  {
   "cell_type": "code",
   "execution_count": null,
   "metadata": {},
   "outputs": [],
   "source": [
    "path_to_data = \"raw_data\"\n",
    "path_to_output = \"data\"\n",
    "file_name = \"signal.csv\"\n",
    "list_inter_id_select = [\"2\", \"42\", \"43\"]"
   ]
  },
  {
   "cell_type": "code",
   "execution_count": null,
   "metadata": {},
   "outputs": [],
   "source": [
    "df_data = pd.read_csv(os.path.join(path_to_data, file_name))"
   ]
  },
  {
   "cell_type": "code",
   "execution_count": null,
   "metadata": {},
   "outputs": [],
   "source": [
    "df_data[\"date_time\"] = pd.to_datetime(df_data[\"date_time\"])\n",
    "# separate date and time\n",
    "df_data[\"date\"] = df_data[\"date_time\"].dt.date\n",
    "df_data[\"timestamp\"] = df_data[\"date_time\"].dt.time\n",
    "df_data[\"id_no\"] = df_data[\"id_no\"].astype(str)"
   ]
  },
  {
   "cell_type": "code",
   "execution_count": null,
   "metadata": {},
   "outputs": [],
   "source": [
    "df_data = df_data[df_data[\"id_no\"].isin(list_inter_id_select)]"
   ]
  },
  {
   "cell_type": "code",
   "execution_count": null,
   "metadata": {},
   "outputs": [],
   "source": [
    "df_data = df_data[[\"id_no\",\n",
    "    \"cycle\", \n",
    "                   \"phase_A_ratio\",\n",
    "                   \"phase_B_ratio\",\n",
    " \"phase_C_ratio\",\n",
    " \"phase_D_ratio\",\n",
    " \"phase_E_ratio\",\n",
    " \"phase_F_ratio\",\n",
    " \"phase_G_ratio\", \"date\", \"timestamp\"]]"
   ]
  },
  {
   "cell_type": "code",
   "execution_count": null,
   "metadata": {},
   "outputs": [],
   "source": [
    "df_data"
   ]
  },
  {
   "cell_type": "code",
   "execution_count": null,
   "metadata": {},
   "outputs": [],
   "source": [
    "list_unique_dates = np.unique(df_data.date.values)\n",
    "for unique_date in list_unique_dates:\n",
    "    df_data_sub = df_data[df_data[\"date\"] == unique_date]\n",
    "    df_data_sub.sort_values(by=[\"timestamp\", \"id_no\"], inplace=True)\n",
    "    df_data_sub.to_csv(os.path.join(path_to_output, \"signal-{0}.csv\".format(unique_date)))"
   ]
  }
 ],
 "metadata": {
  "kernelspec": {
   "display_name": "Python 3",
   "language": "python",
   "name": "python3"
  },
  "language_info": {
   "codemirror_mode": {
    "name": "ipython",
    "version": 3
   },
   "file_extension": ".py",
   "mimetype": "text/x-python",
   "name": "python",
   "nbconvert_exporter": "python",
   "pygments_lexer": "ipython3",
   "version": "3.6.5"
  }
 },
 "nbformat": 4,
 "nbformat_minor": 2
}
