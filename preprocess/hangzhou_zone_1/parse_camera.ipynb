{
 "cells": [
  {
   "cell_type": "code",
   "execution_count": null,
   "metadata": {},
   "outputs": [],
   "source": [
    "import os\n",
    "import pandas as pd\n",
    "import numpy as np"
   ]
  },
  {
   "cell_type": "code",
   "execution_count": null,
   "metadata": {},
   "outputs": [],
   "source": [
    "path_to_data = os.path.join(\"raw_data\")\n",
    "path_to_output = os.path.join(\"data\")\n",
    "file_name = \"camera.csv\"\n",
    "list_columns_to_keep = [\"dev_id\", \"dev_name\", \"way_id\", \"car_num\", \"cap_date\"]\n",
    "list_dev_id_to_select = [\n",
    "    2148469, 2148468, 2148472, 2148470, 2148471, 2148740, 2148742, \n",
    "    2148741, 2148737, 2148739, 2148575, 2148572, 2148577, \n",
    "    2148532, 2148571, 2148574, 2148573]\n",
    "start_ts = pd.Timestamp(\"2018-04-01 00:00:00\")\n",
    "end_ts = pd.Timestamp(\"2018-05-01 00:00:00\")"
   ]
  },
  {
   "cell_type": "code",
   "execution_count": null,
   "metadata": {},
   "outputs": [],
   "source": [
    "def parse_inter_name(name):\n",
    "    for direction_name in [\"东口\", \"西口\", \"南口\", \"北口\", \"东向西\", \"西向东\", \"南向北\", \"北向南\"]:\n",
    "        if direction_name in name:\n",
    "            index_direction = name.index(direction_name)\n",
    "            return name[:index_direction]\n",
    "    \n",
    "    return \"非地面路口\" \n",
    "    \n",
    "def parse_entrance_name(name):\n",
    "    for direction_name in [\"东口\", \"西口\", \"南口\", \"北口\", \"东向西\", \"西向东\", \"南向北\", \"北向南\"]:\n",
    "        if direction_name in name:\n",
    "            return direction_name\n",
    "        \n",
    "    return \"非地面路口\" "
   ]
  },
  {
   "cell_type": "code",
   "execution_count": null,
   "metadata": {},
   "outputs": [],
   "source": [
    "df_data = pd.read_csv(os.path.join(path_to_data, file_name), delimiter=\"\\t\")\n",
    "df_data[\"cap_date\"] = pd.to_datetime(df_data[\"cap_date\"])\n",
    "# separate date and time\n",
    "df_data[\"date\"] = df_data[\"cap_date\"].dt.date\n",
    "df_data[\"timestamp\"] = df_data[\"cap_date\"].dt.time\n",
    "# separate intersection and entrance\n",
    "df_data[\"inter_name\"] = df_data[\"dev_name\"].apply(lambda r: parse_inter_name(r))\n",
    "df_data[\"entrance\"] = df_data[\"dev_name\"].apply(lambda r: parse_entrance_name(r))"
   ]
  },
  {
   "cell_type": "code",
   "execution_count": null,
   "metadata": {},
   "outputs": [],
   "source": [
    "# filter cars with no num\n",
    "df_data = df_data[df_data[\"car_num\"] != '0']\n",
    "# filter by dev id\n",
    "df_data = df_data[df_data[\"dev_id\"].isin(list_dev_id_to_select)]\n",
    "# filter by time\n",
    "df_data = df_data[(df_data[\"cap_date\"] >= start_ts) & (df_data[\"cap_date\"] < end_ts)]"
   ]
  },
  {
   "cell_type": "code",
   "execution_count": null,
   "metadata": {},
   "outputs": [],
   "source": [
    "# code inter_name\n",
    "df_code_inter_name = pd.read_csv(os.path.join(path_to_data, \"list_intersections_disambiguition.csv\"))\n",
    "dic_code_inter_name = {}\n",
    "for i in range(len(df_code_inter_name)):\n",
    "    record = df_code_inter_name.loc[i]\n",
    "    dic_code_inter_name[record[\"inter_name_kakou\"]] = record[\"scats_id\"]\n",
    "df_data[\"inter_name\"] = df_data[\"inter_name\"].apply(lambda r: dic_code_inter_name[r])\n",
    "# code car_num\n",
    "# code entrance\n",
    "dic_code_entrance = {\n",
    "    \"东口\": \"east\",\n",
    "    \"西口\": \"west\",\n",
    "    \"南口\": \"south\",\n",
    "    \"北口\": \"north\",\n",
    "    \"东向西\": \"east\", \n",
    "    \"西向东\": \"west\", \n",
    "    \"南向北\": \"south\",\n",
    "    \"北向南\": \"north\",\n",
    "}\n",
    "df_data[\"entrance\"] = df_data[\"entrance\"].apply(lambda r: dic_code_entrance[r])\n",
    "# code way id\n",
    "dic_code_way_id = {\n",
    "        6: \"lr\",   # 左转+右转\n",
    "        7: \"lsr\",  # 左转+直行+右转,\n",
    "        1: \"s\",    #直行,\n",
    "        2: \"l\",    #左转,\n",
    "        3: \"r\",    #右转,\n",
    "        4: \"ls\",   #左转+直行,\n",
    "        5: \"sr\",   #右转+直行\n",
    "    }\n",
    "df_data[\"way_id\"] = df_data[\"way_id\"].apply(lambda r: dic_code_way_id[r])\n"
   ]
  },
  {
   "cell_type": "code",
   "execution_count": null,
   "metadata": {},
   "outputs": [],
   "source": [
    "# inter_name, entrance, way, car_num, cap_date\n",
    "df_data = df_data[[\"inter_name\", \"entrance\", \"way_id\", \"car_num\", \"date\", \"timestamp\"]]"
   ]
  },
  {
   "cell_type": "code",
   "execution_count": null,
   "metadata": {},
   "outputs": [],
   "source": [
    "list_unique_dates = np.unique(df_data.date.values)\n",
    "for unique_date in list_unique_dates:\n",
    "    df_data_sub = df_data[df_data[\"date\"] == unique_date]\n",
    "    df_data_sub.sort_values(by=[\"timestamp\", \"inter_name\", \"entrance\"], inplace=True)\n",
    "    df_data_sub.to_csv(os.path.join(path_to_output, \"camera-{0}.csv\".format(unique_date)))"
   ]
  },
  {
   "cell_type": "code",
   "execution_count": null,
   "metadata": {},
   "outputs": [],
   "source": [
    "# extract records by car"
   ]
  },
  {
   "cell_type": "code",
   "execution_count": null,
   "metadata": {},
   "outputs": [],
   "source": [
    "# extract records by second"
   ]
  },
  {
   "cell_type": "code",
   "execution_count": null,
   "metadata": {},
   "outputs": [],
   "source": []
  },
  {
   "cell_type": "code",
   "execution_count": null,
   "metadata": {},
   "outputs": [],
   "source": [
    "# calculate num_of_captured, cars distribution"
   ]
  },
  {
   "cell_type": "code",
   "execution_count": null,
   "metadata": {},
   "outputs": [],
   "source": [
    "df_data"
   ]
  }
 ],
 "metadata": {
  "kernelspec": {
   "display_name": "Python 3",
   "language": "python",
   "name": "python3"
  },
  "language_info": {
   "codemirror_mode": {
    "name": "ipython",
    "version": 3
   },
   "file_extension": ".py",
   "mimetype": "text/x-python",
   "name": "python",
   "nbconvert_exporter": "python",
   "pygments_lexer": "ipython3",
   "version": "3.6.5"
  }
 },
 "nbformat": 4,
 "nbformat_minor": 2
}
