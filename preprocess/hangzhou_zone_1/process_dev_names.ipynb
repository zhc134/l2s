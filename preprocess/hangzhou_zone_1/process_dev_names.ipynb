{
 "cells": [
  {
   "cell_type": "code",
   "execution_count": null,
   "metadata": {},
   "outputs": [],
   "source": [
    "import pandas as pd\n",
    "import os\n",
    "import numpy as np"
   ]
  },
  {
   "cell_type": "code",
   "execution_count": null,
   "metadata": {},
   "outputs": [],
   "source": [
    "path_to_data = \"raw_data\""
   ]
  },
  {
   "cell_type": "code",
   "execution_count": null,
   "metadata": {},
   "outputs": [],
   "source": [
    "def parse_inter_name(name):\n",
    "    for direction_name in [\"东口\", \"西口\", \"南口\", \"北口\", \"东向西\", \"西向东\", \"南向北\", \"北向南\"]:\n",
    "        if direction_name in name:\n",
    "            index_direction = name.index(direction_name)\n",
    "            return name[:index_direction]\n",
    "    \n",
    "    return \"非地面路口\" \n",
    "    \n",
    "def parse_entrance_name(name):\n",
    "    for direction_name in [\"东口\", \"西口\", \"南口\", \"北口\", \"东向西\", \"西向东\", \"南向北\", \"北向南\"]:\n",
    "        if direction_name in name:\n",
    "            return direction_name\n",
    "        \n",
    "    return \"非地面路口\" "
   ]
  },
  {
   "cell_type": "code",
   "execution_count": null,
   "metadata": {},
   "outputs": [],
   "source": [
    "# list_df = []\n",
    "# for file in os.listdir(path_to_data):\n",
    "#     if file.startswith(\"list_dev_id_part_\"):\n",
    "#         list_df.append(pd.read_csv(os.path.join(path_to_data, file))[[\"dev_id\", \"dev_name\"]])\n",
    "# df = pd.concat(list_df)\n",
    "# df.drop_duplicates(inplace=True)\n",
    "df = pd.read_csv(os.path.join(path_to_data, \"name.txt\"), delimiter=\"\\t\")"
   ]
  },
  {
   "cell_type": "code",
   "execution_count": null,
   "metadata": {},
   "outputs": [],
   "source": [
    "df[\"inter_name\"] = df[\"dev_name\"].apply(lambda r: parse_inter_name(r))\n",
    "df[\"entrance\"] = df[\"dev_name\"].apply(lambda r: parse_entrance_name(r))"
   ]
  },
  {
   "cell_type": "code",
   "execution_count": null,
   "metadata": {},
   "outputs": [],
   "source": [
    "df = df[df[\"inter_name\"] != \"非地面路口\"]\n",
    "df.reset_index(inplace=True)\n",
    "df.to_csv(os.path.join(path_to_data, \"list_dev_id_total.csv\"))"
   ]
  },
  {
   "cell_type": "code",
   "execution_count": null,
   "metadata": {},
   "outputs": [],
   "source": [
    "# get directions count\n",
    "list_candidate_entrance = [\"东口\", \"西口\", \"南口\", \"北口\", \"东向西\", \"西向东\", \"南向北\", \"北向南\"]\n",
    "list_inter_entrance_mapping = []\n",
    "list_inter_names = np.unique(df[\"inter_name\"].values)\n",
    "for inter_name in list_inter_names:\n",
    "    list_entrance = df[\"entrance\"][df[\"inter_name\"] == inter_name].values\n",
    "    array_inter = [inter_name]\n",
    "    for i, d in enumerate(list_candidate_entrance):\n",
    "        if d in list_entrance:\n",
    "            array_inter.append(1)\n",
    "        else:\n",
    "            array_inter.append(0)\n",
    "    list_inter_entrance_mapping.append(array_inter)\n",
    "df_inter_entrance_mapping = pd.DataFrame(list_inter_entrance_mapping, columns=[\"inter_name\"]+list_candidate_entrance)\n",
    "    "
   ]
  },
  {
   "cell_type": "code",
   "execution_count": null,
   "metadata": {},
   "outputs": [],
   "source": [
    "df_inter_entrance_mapping.to_csv(os.path.join(path_to_data, \"list_inter_entrance_mapping.csv\"))"
   ]
  },
  {
   "cell_type": "code",
   "execution_count": null,
   "metadata": {},
   "outputs": [],
   "source": [
    "list_road_to_include = [\"湖墅\"]\n",
    "list_row_to_include = []\n",
    "for road in list_road_to_include:\n",
    "    for i in range(len(df[\"inter_name\"])):\n",
    "        if road in df[\"inter_name\"][i]:\n",
    "            list_row_to_include.append(i)\n",
    "list_road_to_include = list(set(list_road_to_include))"
   ]
  },
  {
   "cell_type": "code",
   "execution_count": null,
   "metadata": {},
   "outputs": [],
   "source": [
    "df.loc[list_row_to_include].to_csv(os.path.join(path_to_data, \"list_dev_id_select.csv\"))\n",
    "print(df.loc[list_row_to_include][\"dev_id\"].values.tolist())"
   ]
  }
 ],
 "metadata": {
  "kernelspec": {
   "display_name": "Python 3",
   "language": "python",
   "name": "python3"
  },
  "language_info": {
   "codemirror_mode": {
    "name": "ipython",
    "version": 3
   },
   "file_extension": ".py",
   "mimetype": "text/x-python",
   "name": "python",
   "nbconvert_exporter": "python",
   "pygments_lexer": "ipython3",
   "version": "3.6.5"
  }
 },
 "nbformat": 4,
 "nbformat_minor": 2
}
