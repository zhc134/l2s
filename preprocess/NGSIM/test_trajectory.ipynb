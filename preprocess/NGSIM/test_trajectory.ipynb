{
 "cells": [
  {
   "cell_type": "code",
   "execution_count": null,
   "metadata": {},
   "outputs": [],
   "source": [
    "import os\n",
    "import pandas as pd\n",
    "path_to_data = os.path.join(\"..\", \"raw_data\", \"NGSIM\", \"Lankershim-Boulevard-LosAngeles-CA\")\n",
    "file_name = \"NGSIM__Lankershim_Vehicle_Trajectories.csv\"\n",
    "df = pd.read_csv(os.path.join(path_to_data, file_name))"
   ]
  },
  {
   "cell_type": "code",
   "execution_count": null,
   "metadata": {},
   "outputs": [],
   "source": [
    "df[(df[\"Local_Y\"] > 1000) & (df[\"Local_Y\"] < 1200) & (df[\"Int_ID\"] == 0) & (df[\"Section_ID\"] == 0) & (df[\"Direction\"] == 3) & (df[\"Local_X\"] > 0)].O_Zone"
   ]
  },
  {
   "cell_type": "code",
   "execution_count": null,
   "metadata": {},
   "outputs": [],
   "source": [
    "df[(df[\"O_Zone\"] == 105) & (df[\"Int_ID\"] == 0) & (df[\"Section_ID\"] == 0)]"
   ]
  }
 ],
 "metadata": {
  "kernelspec": {
   "display_name": "Python 3",
   "language": "python",
   "name": "python3"
  },
  "language_info": {
   "codemirror_mode": {
    "name": "ipython",
    "version": 3
   },
   "file_extension": ".py",
   "mimetype": "text/x-python",
   "name": "python",
   "nbconvert_exporter": "python",
   "pygments_lexer": "ipython3",
   "version": "3.6.5"
  }
 },
 "nbformat": 4,
 "nbformat_minor": 2
}
