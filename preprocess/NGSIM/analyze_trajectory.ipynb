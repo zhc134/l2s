{
 "cells": [
  {
   "cell_type": "code",
   "execution_count": null,
   "metadata": {},
   "outputs": [],
   "source": [
    "import pandas as pd\n",
    "import numpy as np\n",
    "from matplotlib import pyplot as plt\n",
    "from matplotlib import rcParams\n",
    "import os"
   ]
  },
  {
   "cell_type": "code",
   "execution_count": null,
   "metadata": {},
   "outputs": [],
   "source": [
    "path_to_data = os.path.join(\"..\", \"raw_data\", \"NGSIM\", \"sample\")\n",
    "file_name = \"sample_trajectory_100000.csv\""
   ]
  },
  {
   "cell_type": "code",
   "execution_count": null,
   "metadata": {},
   "outputs": [],
   "source": [
    "list_origin = [101, 108]\n",
    "list_dest = [201, 208]\n",
    "lane_width = 3"
   ]
  },
  {
   "cell_type": "code",
   "execution_count": null,
   "metadata": {},
   "outputs": [],
   "source": [
    "df = pd.read_csv(os.path.join(path_to_data, file_name))"
   ]
  },
  {
   "cell_type": "code",
   "execution_count": null,
   "metadata": {},
   "outputs": [],
   "source": [
    "# filter origin\n",
    "df = df[df[\"O_Zone\"].isin(list_origin)]\n",
    "# filter destination\n",
    "df = df[df[\"D_Zone\"].isin(list_dest)]\n",
    "df = df[df[\"Lane_ID\"].isin([1,2,3,4])]"
   ]
  },
  {
   "cell_type": "code",
   "execution_count": null,
   "metadata": {},
   "outputs": [],
   "source": [
    "# make trajectory plots\n",
    "plt.figure()\n",
    "df_group_by_vehicle = df.groupby(by=\"Vehicle_ID\")\n",
    "for name, group in df_group_by_vehicle:\n",
    "    array_x = group[\"Global_X\"].values\n",
    "    array_y = group[\"Global_Y\"].values\n",
    "    plt.plot(array_x, array_y)\n",
    "    "
   ]
  },
  {
   "cell_type": "code",
   "execution_count": null,
   "metadata": {},
   "outputs": [],
   "source": [
    "plt.figure()\n",
    "df_group_by_vehicle = df.groupby(by=\"Vehicle_ID\")\n",
    "for name, group in df_group_by_vehicle:\n",
    "    array_x = group[\"Local_X\"].values\n",
    "    array_y = group[\"Local_Y\"].values\n",
    "    plt.plot(array_x, array_y)"
   ]
  },
  {
   "cell_type": "code",
   "execution_count": null,
   "metadata": {},
   "outputs": [],
   "source": [
    "plt.figure()\n",
    "df_group_by_vehicle = df.groupby(by=\"Vehicle_ID\")\n",
    "for name, group in df_group_by_vehicle:\n",
    "    array_x = group[\"Lane_ID\"].values\n",
    "    array_y = group[\"Local_Y\"].values\n",
    "    plt.plot(array_x, array_y)"
   ]
  },
  {
   "cell_type": "code",
   "execution_count": null,
   "metadata": {},
   "outputs": [],
   "source": [
    "# verify relation between Lane_ID, and Local_X (consider the horizontal directions also):  seems fine\n",
    "df[\"Local_X\"].hist(by=df[\"Lane_ID\"], figsize=(12, 9))"
   ]
  },
  {
   "cell_type": "code",
   "execution_count": null,
   "metadata": {},
   "outputs": [],
   "source": [
    "# verify relation between section_ID, and Local_Y (consider the horizontal directions also): ok\n",
    "df_sub = df[df[\"Section_ID\"].isin([1,2,3,4,5])]\n",
    "df_sub[\"Local_Y\"].hist(by=df_sub[\"Section_ID\"], figsize=(12, 9))"
   ]
  },
  {
   "cell_type": "code",
   "execution_count": null,
   "metadata": {},
   "outputs": [],
   "source": [
    "# verify relation between Int_ID, and Local_Y (consider the horizontal directions also): ok\n",
    "df_sub = df[df[\"Int_ID\"].isin([1,2,3,4])]\n",
    "df_sub[\"Local_Y\"].hist(by=df_sub[\"Int_ID\"], figsize=(12, 9))"
   ]
  },
  {
   "cell_type": "code",
   "execution_count": null,
   "metadata": {},
   "outputs": [],
   "source": [
    "# verify the relation between Direction and lane\n",
    "df[(df[\"O_Zone\"].isin([105])) & (df[\"Section_ID\"] == 3)][\"Direction\"].drop_duplicates()"
   ]
  },
  {
   "cell_type": "code",
   "execution_count": null,
   "metadata": {},
   "outputs": [],
   "source": [
    "df[df[\"O_Zone\"].isin([104])][\"Direction\"].drop_duplicates()"
   ]
  },
  {
   "cell_type": "code",
   "execution_count": null,
   "metadata": {},
   "outputs": [],
   "source": [
    "df.columns"
   ]
  },
  {
   "cell_type": "code",
   "execution_count": null,
   "metadata": {},
   "outputs": [],
   "source": [
    "df"
   ]
  }
 ],
 "metadata": {
  "kernelspec": {
   "display_name": "Python 3",
   "language": "python",
   "name": "python3"
  },
  "language_info": {
   "codemirror_mode": {
    "name": "ipython",
    "version": 3
   },
   "file_extension": ".py",
   "mimetype": "text/x-python",
   "name": "python",
   "nbconvert_exporter": "python",
   "pygments_lexer": "ipython3",
   "version": "3.6.5"
  }
 },
 "nbformat": 4,
 "nbformat_minor": 2
}
